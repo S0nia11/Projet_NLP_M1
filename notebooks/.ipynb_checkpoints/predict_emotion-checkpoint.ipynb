{
 "cells": [
  {
   "cell_type": "markdown",
   "id": "b9777dd2-15a8-4873-be63-5a27858f4f11",
   "metadata": {},
   "source": [
    "## Ce fichier consiste à charger le modèle et à l'entrerner afin d'afficher les émotions détectées"
   ]
  },
  {
   "cell_type": "code",
   "execution_count": null,
   "id": "2155cd7f-39ed-4d91-8fd6-e14b64cd2122",
   "metadata": {},
   "outputs": [],
   "source": [
    "from transformers import AutoModelForSequenceClassification, AutoTokenizer\n",
    "\n",
    "model = AutoModelForSequenceClassification.from_pretrained(\"../models/emotion_distilbert\")\n",
    "tokenizer = AutoTokenizer.from_pretrained(\"../models/emotion_distilbert\")"
   ]
  },
  {
   "cell_type": "code",
   "execution_count": null,
   "id": "c48cdf4f-e822-430f-9cc5-8d28bb928895",
   "metadata": {},
   "outputs": [],
   "source": []
  }
 ],
 "metadata": {
  "kernelspec": {
   "display_name": "Python (my_tps)",
   "language": "python",
   "name": "my_tps"
  },
  "language_info": {
   "codemirror_mode": {
    "name": "ipython",
    "version": 3
   },
   "file_extension": ".py",
   "mimetype": "text/x-python",
   "name": "python",
   "nbconvert_exporter": "python",
   "pygments_lexer": "ipython3",
   "version": "3.9.23"
  }
 },
 "nbformat": 4,
 "nbformat_minor": 5
}
