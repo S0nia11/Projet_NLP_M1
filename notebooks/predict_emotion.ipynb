{
 "cells": [
  {
   "cell_type": "markdown",
   "id": "b9777dd2-15a8-4873-be63-5a27858f4f11",
   "metadata": {},
   "source": [
    "## Ce fichier consiste à charger le modèle et à l'entrerner afin d'afficher les émotions détectées"
   ]
  },
  {
   "cell_type": "code",
   "execution_count": 1,
   "id": "2155cd7f-39ed-4d91-8fd6-e14b64cd2122",
   "metadata": {},
   "outputs": [],
   "source": [
    "from transformers import AutoModelForSequenceClassification, AutoTokenizer\n",
    "\n",
    "model = AutoModelForSequenceClassification.from_pretrained(\"../models/emotion_distilbert\")\n",
    "tokenizer = AutoTokenizer.from_pretrained(\"../models/emotion_distilbert\")"
   ]
  },
  {
   "cell_type": "code",
   "execution_count": 5,
   "id": "0b403891-2d0e-4578-aa12-f99a72ebc16d",
   "metadata": {},
   "outputs": [],
   "source": [
    "import pandas as pd\n",
    "\n",
    "df = pd.read_csv(\"../data/goemotions_clean.csv\")\n",
    "emotion_labels = df.columns.drop(\"text_clean\").tolist()"
   ]
  },
  {
   "cell_type": "code",
   "execution_count": 6,
   "id": "d5cdb112-dd55-4d9d-98f0-699129f97bee",
   "metadata": {},
   "outputs": [],
   "source": [
    "emotion_labels = [\n",
    "    \"admiration\", \"amusement\", \"anger\", \"annoyance\", \"approval\", \"caring\",\n",
    "    \"confusion\", \"curiosity\", \"desire\", \"disappointment\", \"disapproval\",\n",
    "    \"disgust\", \"embarrassment\", \"excitement\", \"fear\", \"gratitude\", \"grief\",\n",
    "    \"joy\", \"love\", \"nervousness\", \"optimism\", \"pride\", \"realization\",\n",
    "    \"relief\", \"remorse\", \"sadness\", \"surprise\", \"neutral\"\n",
    "]"
   ]
  },
  {
   "cell_type": "code",
   "execution_count": 7,
   "id": "c48cdf4f-e822-430f-9cc5-8d28bb928895",
   "metadata": {},
   "outputs": [],
   "source": [
    "import torch\n",
    "import numpy as np\n",
    "\n",
    "text = \"Je suis trop content aujourd’hui, c’est génial !\"\n",
    "inputs = tokenizer(text, return_tensors=\"pt\", truncation=True, padding=True, max_length=128)\n",
    "model.eval()\n",
    "with torch.no_grad():\n",
    "    outputs = model(**inputs)\n",
    "    logits = outputs.logits\n",
    "    probs = torch.sigmoid(logits).squeeze().numpy()\n",
    "\n",
    "threshold = 0.3\n",
    "predicted_labels = (probs >= threshold).astype(int)"
   ]
  },
  {
   "cell_type": "code",
   "execution_count": 8,
   "id": "85fcd41c-8e98-4429-8c24-46ec37112348",
   "metadata": {},
   "outputs": [
    {
     "name": "stdout",
     "output_type": "stream",
     "text": [
      "admiration (score: 0.54)\n",
      "amusement (score: 0.50)\n",
      "anger (score: 0.50)\n",
      "annoyance (score: 0.51)\n",
      "approval (score: 0.48)\n",
      "caring (score: 0.48)\n",
      "confusion (score: 0.50)\n",
      "curiosity (score: 0.50)\n",
      "desire (score: 0.53)\n",
      "disappointment (score: 0.57)\n",
      "disapproval (score: 0.53)\n",
      "disgust (score: 0.48)\n",
      "embarrassment (score: 0.52)\n",
      "excitement (score: 0.53)\n",
      "fear (score: 0.47)\n",
      "gratitude (score: 0.45)\n",
      "grief (score: 0.52)\n",
      "joy (score: 0.50)\n",
      "love (score: 0.52)\n",
      "nervousness (score: 0.47)\n",
      "optimism (score: 0.51)\n",
      "pride (score: 0.48)\n",
      "realization (score: 0.49)\n",
      "relief (score: 0.47)\n",
      "remorse (score: 0.48)\n",
      "sadness (score: 0.50)\n",
      "surprise (score: 0.55)\n",
      "neutral (score: 0.48)\n"
     ]
    }
   ],
   "source": [
    "emotion_labels = df.columns.drop(\"text_clean\").tolist()\n",
    "\n",
    "for emotion, score, pred in zip(emotion_labels, probs, predicted_labels):\n",
    "    if pred:\n",
    "        print(f\"{emotion} (score: {score:.2f})\")"
   ]
  },
  {
   "cell_type": "code",
   "execution_count": null,
   "id": "ba5f9d3b-51d4-4184-9c85-6365dda2ea7b",
   "metadata": {},
   "outputs": [],
   "source": []
  }
 ],
 "metadata": {
  "kernelspec": {
   "display_name": "Python (my_tps)",
   "language": "python",
   "name": "my_tps"
  },
  "language_info": {
   "codemirror_mode": {
    "name": "ipython",
    "version": 3
   },
   "file_extension": ".py",
   "mimetype": "text/x-python",
   "name": "python",
   "nbconvert_exporter": "python",
   "pygments_lexer": "ipython3",
   "version": "3.9.23"
  }
 },
 "nbformat": 4,
 "nbformat_minor": 5
}
